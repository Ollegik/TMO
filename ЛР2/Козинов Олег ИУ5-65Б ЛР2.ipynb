{
 "cells": [
  {
   "cell_type": "markdown",
   "metadata": {
    "collapsed": false,
    "id": "P86PvIBVfgMM"
   },
   "source": [
    "#**Обработка пропусков в данных, кодирование категориальных признаков, масштабирование данных**"
   ]
  },
  {
   "cell_type": "markdown",
   "metadata": {
    "collapsed": false,
    "id": "9ZHuJDirftA_"
   },
   "source": [
    "**Цель лабораторной работы**\\\n",
    "Изучение способов предварительной обработки данных для дальнейшего формирования моделей"
   ]
  },
  {
   "cell_type": "markdown",
   "metadata": {
    "collapsed": false,
    "id": "ur1j_2Ovf78d"
   },
   "source": [
    "**Задание**\n",
    "\n",
    "\n",
    "1.   Выбрать набор данных (датасет), содержащий категориальные признаки и пропуски в данных. Для выполнения следующих пунктов можно использовать несколько различных наборов данных (один для обработки пропусков, другой для категориальных признаков и т.д.)\n",
    "2.   Для выбранного датасета (датасетов) на основе материалов лекции решить следующие задачи:\n",
    "\n",
    "  *   обработку пропусков в данных;\n",
    "  *   кодирование категориальных признаков;\n",
    "  *   масштабирование данных.\n",
    "\n"
   ]
  },
  {
   "cell_type": "markdown",
   "metadata": {
    "collapsed": false,
    "id": "q8yvJACfhjtl"
   },
   "source": [
    "##**Решение**"
   ]
  },
  {
   "cell_type": "markdown",
   "metadata": {
    "collapsed": false,
    "id": "DUF410fAkxiH"
   },
   "source": [
    "###**Импорт библиотек**"
   ]
  },
  {
   "cell_type": "code",
   "execution_count": 4,
   "metadata": {
    "collapsed": false,
    "id": "VsARA0qpeuGW"
   },
   "outputs": [
   ],
   "source": [
    "import numpy as np\n",
    "import pandas as pd\n",
    "import seaborn as sns\n",
    "import matplotlib.pyplot as plt\n",
    "from sklearn.datasets import *\n",
    "%matplotlib inline \n",
    "sns.set(style=\"ticks\")"
   ]
  },
  {
   "cell_type": "code",
   "execution_count": 5,
   "metadata": {
    "collapsed": false,
    "id": "AcAxt_jOiM2H"
   },
   "outputs": [
   ],
   "source": [
    "data = pd.read_csv('data.csv')"
   ]
  },
  {
   "cell_type": "markdown",
   "metadata": {
    "collapsed": false,
    "id": "hnI6FJ4njVFz"
   },
   "source": [
    "###**Характеристики датасета**"
   ]
  },
  {
   "cell_type": "code",
   "execution_count": 6,
   "metadata": {
    "colab": {
     "base_uri": "https://localhost:8080/"
    },
    "collapsed": false,
    "id": "MDKmZ2MXibpK",
    "outputId": "a9d6483c-1bc5-45c3-c735-114c2d1bbe57"
   },
   "outputs": [
    {
     "data": {
      "text/plain": [
       "(18207, 89)"
      ]
     },
     "execution_count": 6,
     "metadata": {
     },
     "output_type": "execute_result"
    }
   ],
   "source": [
    "data.shape"
   ]
  },
  {
   "cell_type": "code",
   "execution_count": 7,
   "metadata": {
    "colab": {
     "base_uri": "https://localhost:8080/"
    },
    "collapsed": false,
    "id": "_j5P3v1bjctj",
    "outputId": "c35ad77b-8da5-42f0-d80a-e3cececee2f1"
   },
   "outputs": [
    {
     "data": {
      "text/plain": [
       "Unnamed: 0          int64\n",
       "ID                  int64\n",
       "Name               object\n",
       "Age                 int64\n",
       "Photo              object\n",
       "                   ...   \n",
       "GKHandling        float64\n",
       "GKKicking         float64\n",
       "GKPositioning     float64\n",
       "GKReflexes        float64\n",
       "Release Clause     object\n",
       "Length: 89, dtype: object"
      ]
     },
     "execution_count": 7,
     "metadata": {
     },
     "output_type": "execute_result"
    }
   ],
   "source": [
    "data.dtypes"
   ]
  },
  {
   "cell_type": "code",
   "execution_count": 8,
   "metadata": {
    "colab": {
     "base_uri": "https://localhost:8080/",
     "height": 378
    },
    "collapsed": false,
    "id": "H71ZI3tLjhem",
    "outputId": "f94476aa-c05a-4748-bb3c-fe51b9942296"
   },
   "outputs": [
    {
     "data": {
      "text/html": [
       "<div>\n",
       "<style scoped>\n",
       "    .dataframe tbody tr th:only-of-type {\n",
       "        vertical-align: middle;\n",
       "    }\n",
       "\n",
       "    .dataframe tbody tr th {\n",
       "        vertical-align: top;\n",
       "    }\n",
       "\n",
       "    .dataframe thead th {\n",
       "        text-align: right;\n",
       "    }\n",
       "</style>\n",
       "<table border=\"1\" class=\"dataframe\">\n",
       "  <thead>\n",
       "    <tr style=\"text-align: right;\">\n",
       "      <th></th>\n",
       "      <th>Unnamed: 0</th>\n",
       "      <th>ID</th>\n",
       "      <th>Name</th>\n",
       "      <th>Age</th>\n",
       "      <th>Photo</th>\n",
       "      <th>Nationality</th>\n",
       "      <th>Flag</th>\n",
       "      <th>Overall</th>\n",
       "      <th>Potential</th>\n",
       "      <th>Club</th>\n",
       "      <th>...</th>\n",
       "      <th>Composure</th>\n",
       "      <th>Marking</th>\n",
       "      <th>StandingTackle</th>\n",
       "      <th>SlidingTackle</th>\n",
       "      <th>GKDiving</th>\n",
       "      <th>GKHandling</th>\n",
       "      <th>GKKicking</th>\n",
       "      <th>GKPositioning</th>\n",
       "      <th>GKReflexes</th>\n",
       "      <th>Release Clause</th>\n",
       "    </tr>\n",
       "  </thead>\n",
       "  <tbody>\n",
       "    <tr>\n",
       "      <th>0</th>\n",
       "      <td>0</td>\n",
       "      <td>158023</td>\n",
       "      <td>L. Messi</td>\n",
       "      <td>31</td>\n",
       "      <td>https://cdn.sofifa.org/players/4/19/158023.png</td>\n",
       "      <td>Argentina</td>\n",
       "      <td>https://cdn.sofifa.org/flags/52.png</td>\n",
       "      <td>94</td>\n",
       "      <td>94</td>\n",
       "      <td>FC Barcelona</td>\n",
       "      <td>...</td>\n",
       "      <td>96.0</td>\n",
       "      <td>33.0</td>\n",
       "      <td>28.0</td>\n",
       "      <td>26.0</td>\n",
       "      <td>6.0</td>\n",
       "      <td>11.0</td>\n",
       "      <td>15.0</td>\n",
       "      <td>14.0</td>\n",
       "      <td>8.0</td>\n",
       "      <td>€226.5M</td>\n",
       "    </tr>\n",
       "    <tr>\n",
       "      <th>1</th>\n",
       "      <td>1</td>\n",
       "      <td>20801</td>\n",
       "      <td>Cristiano Ronaldo</td>\n",
       "      <td>33</td>\n",
       "      <td>https://cdn.sofifa.org/players/4/19/20801.png</td>\n",
       "      <td>Portugal</td>\n",
       "      <td>https://cdn.sofifa.org/flags/38.png</td>\n",
       "      <td>94</td>\n",
       "      <td>94</td>\n",
       "      <td>Juventus</td>\n",
       "      <td>...</td>\n",
       "      <td>95.0</td>\n",
       "      <td>28.0</td>\n",
       "      <td>31.0</td>\n",
       "      <td>23.0</td>\n",
       "      <td>7.0</td>\n",
       "      <td>11.0</td>\n",
       "      <td>15.0</td>\n",
       "      <td>14.0</td>\n",
       "      <td>11.0</td>\n",
       "      <td>€127.1M</td>\n",
       "    </tr>\n",
       "    <tr>\n",
       "      <th>2</th>\n",
       "      <td>2</td>\n",
       "      <td>190871</td>\n",
       "      <td>Neymar Jr</td>\n",
       "      <td>26</td>\n",
       "      <td>https://cdn.sofifa.org/players/4/19/190871.png</td>\n",
       "      <td>Brazil</td>\n",
       "      <td>https://cdn.sofifa.org/flags/54.png</td>\n",
       "      <td>92</td>\n",
       "      <td>93</td>\n",
       "      <td>Paris Saint-Germain</td>\n",
       "      <td>...</td>\n",
       "      <td>94.0</td>\n",
       "      <td>27.0</td>\n",
       "      <td>24.0</td>\n",
       "      <td>33.0</td>\n",
       "      <td>9.0</td>\n",
       "      <td>9.0</td>\n",
       "      <td>15.0</td>\n",
       "      <td>15.0</td>\n",
       "      <td>11.0</td>\n",
       "      <td>€228.1M</td>\n",
       "    </tr>\n",
       "    <tr>\n",
       "      <th>3</th>\n",
       "      <td>3</td>\n",
       "      <td>193080</td>\n",
       "      <td>De Gea</td>\n",
       "      <td>27</td>\n",
       "      <td>https://cdn.sofifa.org/players/4/19/193080.png</td>\n",
       "      <td>Spain</td>\n",
       "      <td>https://cdn.sofifa.org/flags/45.png</td>\n",
       "      <td>91</td>\n",
       "      <td>93</td>\n",
       "      <td>Manchester United</td>\n",
       "      <td>...</td>\n",
       "      <td>68.0</td>\n",
       "      <td>15.0</td>\n",
       "      <td>21.0</td>\n",
       "      <td>13.0</td>\n",
       "      <td>90.0</td>\n",
       "      <td>85.0</td>\n",
       "      <td>87.0</td>\n",
       "      <td>88.0</td>\n",
       "      <td>94.0</td>\n",
       "      <td>€138.6M</td>\n",
       "    </tr>\n",
       "    <tr>\n",
       "      <th>4</th>\n",
       "      <td>4</td>\n",
       "      <td>192985</td>\n",
       "      <td>K. De Bruyne</td>\n",
       "      <td>27</td>\n",
       "      <td>https://cdn.sofifa.org/players/4/19/192985.png</td>\n",
       "      <td>Belgium</td>\n",
       "      <td>https://cdn.sofifa.org/flags/7.png</td>\n",
       "      <td>91</td>\n",
       "      <td>92</td>\n",
       "      <td>Manchester City</td>\n",
       "      <td>...</td>\n",
       "      <td>88.0</td>\n",
       "      <td>68.0</td>\n",
       "      <td>58.0</td>\n",
       "      <td>51.0</td>\n",
       "      <td>15.0</td>\n",
       "      <td>13.0</td>\n",
       "      <td>5.0</td>\n",
       "      <td>10.0</td>\n",
       "      <td>13.0</td>\n",
       "      <td>€196.4M</td>\n",
       "    </tr>\n",
       "  </tbody>\n",
       "</table>\n",
       "<p>5 rows × 89 columns</p>\n",
       "</div>"
      ],
      "text/plain": [
       "   Unnamed: 0      ID               Name  Age  \\\n",
       "0           0  158023           L. Messi   31   \n",
       "1           1   20801  Cristiano Ronaldo   33   \n",
       "2           2  190871          Neymar Jr   26   \n",
       "3           3  193080             De Gea   27   \n",
       "4           4  192985       K. De Bruyne   27   \n",
       "\n",
       "                                            Photo Nationality  \\\n",
       "0  https://cdn.sofifa.org/players/4/19/158023.png   Argentina   \n",
       "1   https://cdn.sofifa.org/players/4/19/20801.png    Portugal   \n",
       "2  https://cdn.sofifa.org/players/4/19/190871.png      Brazil   \n",
       "3  https://cdn.sofifa.org/players/4/19/193080.png       Spain   \n",
       "4  https://cdn.sofifa.org/players/4/19/192985.png     Belgium   \n",
       "\n",
       "                                  Flag  Overall  Potential  \\\n",
       "0  https://cdn.sofifa.org/flags/52.png       94         94   \n",
       "1  https://cdn.sofifa.org/flags/38.png       94         94   \n",
       "2  https://cdn.sofifa.org/flags/54.png       92         93   \n",
       "3  https://cdn.sofifa.org/flags/45.png       91         93   \n",
       "4   https://cdn.sofifa.org/flags/7.png       91         92   \n",
       "\n",
       "                  Club  ... Composure Marking StandingTackle  SlidingTackle  \\\n",
       "0         FC Barcelona  ...      96.0    33.0           28.0           26.0   \n",
       "1             Juventus  ...      95.0    28.0           31.0           23.0   \n",
       "2  Paris Saint-Germain  ...      94.0    27.0           24.0           33.0   \n",
       "3    Manchester United  ...      68.0    15.0           21.0           13.0   \n",
       "4      Manchester City  ...      88.0    68.0           58.0           51.0   \n",
       "\n",
       "  GKDiving  GKHandling  GKKicking  GKPositioning GKReflexes Release Clause  \n",
       "0      6.0        11.0       15.0           14.0        8.0        €226.5M  \n",
       "1      7.0        11.0       15.0           14.0       11.0        €127.1M  \n",
       "2      9.0         9.0       15.0           15.0       11.0        €228.1M  \n",
       "3     90.0        85.0       87.0           88.0       94.0        €138.6M  \n",
       "4     15.0        13.0        5.0           10.0       13.0        €196.4M  \n",
       "\n",
       "[5 rows x 89 columns]"
      ]
     },
     "execution_count": 8,
     "metadata": {
     },
     "output_type": "execute_result"
    }
   ],
   "source": [
    "data.head()"
   ]
  },
  {
   "cell_type": "code",
   "execution_count": 9,
   "metadata": {
    "colab": {
     "base_uri": "https://localhost:8080/"
    },
    "collapsed": false,
    "id": "CvTt6xdEjocM",
    "outputId": "840fb6f8-90d9-45ba-a24e-3936d19ced0e"
   },
   "outputs": [
    {
     "data": {
      "text/plain": [
       "Unnamed: 0           0\n",
       "ID                   0\n",
       "Name                 0\n",
       "Age                  0\n",
       "Photo                0\n",
       "                  ... \n",
       "GKHandling          48\n",
       "GKKicking           48\n",
       "GKPositioning       48\n",
       "GKReflexes          48\n",
       "Release Clause    1564\n",
       "Length: 89, dtype: int64"
      ]
     },
     "execution_count": 9,
     "metadata": {
     },
     "output_type": "execute_result"
    }
   ],
   "source": [
    "data.isnull().sum()"
   ]
  },
  {
   "cell_type": "markdown",
   "metadata": {
    "collapsed": false,
    "id": "AwoWu5a6k8zG"
   },
   "source": [
    "###**Обработка пропусков в числовых данных**\n",
    "\n"
   ]
  },
  {
   "cell_type": "markdown",
   "metadata": {
    "collapsed": false,
    "id": "OskBEhLelDOF"
   },
   "source": [
    "####**Подбор и преобразование колонки**"
   ]
  },
  {
   "cell_type": "code",
   "execution_count": 10,
   "metadata": {
    "colab": {
     "base_uri": "https://localhost:8080/"
    },
    "collapsed": false,
    "id": "wU7xPoM9lRGY",
    "outputId": "2bde6a40-51da-4e7c-a810-7d92ba2e45c5"
   },
   "outputs": [
    {
     "data": {
      "text/plain": [
       "0        €226.5M\n",
       "1        €127.1M\n",
       "2        €228.1M\n",
       "3        €138.6M\n",
       "4        €196.4M\n",
       "          ...   \n",
       "18202      €143K\n",
       "18203      €113K\n",
       "18204      €165K\n",
       "18205      €143K\n",
       "18206      €165K\n",
       "Name: Release Clause, Length: 18207, dtype: object"
      ]
     },
     "execution_count": 10,
     "metadata": {
     },
     "output_type": "execute_result"
    }
   ],
   "source": [
    "data['Release Clause']"
   ]
  },
  {
   "cell_type": "code",
   "execution_count": 11,
   "metadata": {
    "colab": {
     "base_uri": "https://localhost:8080/",
     "height": 395
    },
    "collapsed": false,
    "id": "-CCXsotgleNy",
    "outputId": "dd781955-e32c-4387-9e4b-7fe3172dc371"
   },
   "outputs": [
    {
     "data": {
      "text/html": [
       "<div>\n",
       "<style scoped>\n",
       "    .dataframe tbody tr th:only-of-type {\n",
       "        vertical-align: middle;\n",
       "    }\n",
       "\n",
       "    .dataframe tbody tr th {\n",
       "        vertical-align: top;\n",
       "    }\n",
       "\n",
       "    .dataframe thead th {\n",
       "        text-align: right;\n",
       "    }\n",
       "</style>\n",
       "<table border=\"1\" class=\"dataframe\">\n",
       "  <thead>\n",
       "    <tr style=\"text-align: right;\">\n",
       "      <th></th>\n",
       "      <th>Unnamed: 0</th>\n",
       "      <th>ID</th>\n",
       "      <th>Name</th>\n",
       "      <th>Age</th>\n",
       "      <th>Photo</th>\n",
       "      <th>Nationality</th>\n",
       "      <th>Flag</th>\n",
       "      <th>Overall</th>\n",
       "      <th>Potential</th>\n",
       "      <th>Club</th>\n",
       "      <th>...</th>\n",
       "      <th>Composure</th>\n",
       "      <th>Marking</th>\n",
       "      <th>StandingTackle</th>\n",
       "      <th>SlidingTackle</th>\n",
       "      <th>GKDiving</th>\n",
       "      <th>GKHandling</th>\n",
       "      <th>GKKicking</th>\n",
       "      <th>GKPositioning</th>\n",
       "      <th>GKReflexes</th>\n",
       "      <th>Release Clause</th>\n",
       "    </tr>\n",
       "  </thead>\n",
       "  <tbody>\n",
       "    <tr>\n",
       "      <th>28</th>\n",
       "      <td>28</td>\n",
       "      <td>198710</td>\n",
       "      <td>J. Rodríguez</td>\n",
       "      <td>26</td>\n",
       "      <td>https://cdn.sofifa.org/players/4/19/198710.png</td>\n",
       "      <td>Colombia</td>\n",
       "      <td>https://cdn.sofifa.org/flags/56.png</td>\n",
       "      <td>88</td>\n",
       "      <td>89</td>\n",
       "      <td>FC Bayern München</td>\n",
       "      <td>...</td>\n",
       "      <td>87.0</td>\n",
       "      <td>52.0</td>\n",
       "      <td>41.0</td>\n",
       "      <td>44.0</td>\n",
       "      <td>15.0</td>\n",
       "      <td>15.0</td>\n",
       "      <td>15.0</td>\n",
       "      <td>5.0</td>\n",
       "      <td>14.0</td>\n",
       "      <td>NaN</td>\n",
       "    </tr>\n",
       "    <tr>\n",
       "      <th>38</th>\n",
       "      <td>38</td>\n",
       "      <td>167664</td>\n",
       "      <td>G. Higuaín</td>\n",
       "      <td>30</td>\n",
       "      <td>https://cdn.sofifa.org/players/4/19/167664.png</td>\n",
       "      <td>Argentina</td>\n",
       "      <td>https://cdn.sofifa.org/flags/52.png</td>\n",
       "      <td>88</td>\n",
       "      <td>88</td>\n",
       "      <td>Milan</td>\n",
       "      <td>...</td>\n",
       "      <td>86.0</td>\n",
       "      <td>35.0</td>\n",
       "      <td>22.0</td>\n",
       "      <td>18.0</td>\n",
       "      <td>5.0</td>\n",
       "      <td>12.0</td>\n",
       "      <td>7.0</td>\n",
       "      <td>5.0</td>\n",
       "      <td>10.0</td>\n",
       "      <td>NaN</td>\n",
       "    </tr>\n",
       "    <tr>\n",
       "      <th>91</th>\n",
       "      <td>91</td>\n",
       "      <td>187961</td>\n",
       "      <td>Paulinho</td>\n",
       "      <td>29</td>\n",
       "      <td>https://cdn.sofifa.org/players/4/19/187961.png</td>\n",
       "      <td>Brazil</td>\n",
       "      <td>https://cdn.sofifa.org/flags/54.png</td>\n",
       "      <td>85</td>\n",
       "      <td>85</td>\n",
       "      <td>Guangzhou Evergrande Taobao FC</td>\n",
       "      <td>...</td>\n",
       "      <td>80.0</td>\n",
       "      <td>75.0</td>\n",
       "      <td>81.0</td>\n",
       "      <td>73.0</td>\n",
       "      <td>16.0</td>\n",
       "      <td>16.0</td>\n",
       "      <td>11.0</td>\n",
       "      <td>6.0</td>\n",
       "      <td>8.0</td>\n",
       "      <td>NaN</td>\n",
       "    </tr>\n",
       "    <tr>\n",
       "      <th>166</th>\n",
       "      <td>166</td>\n",
       "      <td>212523</td>\n",
       "      <td>Anderson Talisca</td>\n",
       "      <td>24</td>\n",
       "      <td>https://cdn.sofifa.org/players/4/19/212523.png</td>\n",
       "      <td>Brazil</td>\n",
       "      <td>https://cdn.sofifa.org/flags/54.png</td>\n",
       "      <td>83</td>\n",
       "      <td>90</td>\n",
       "      <td>Guangzhou Evergrande Taobao FC</td>\n",
       "      <td>...</td>\n",
       "      <td>74.0</td>\n",
       "      <td>55.0</td>\n",
       "      <td>62.0</td>\n",
       "      <td>42.0</td>\n",
       "      <td>13.0</td>\n",
       "      <td>11.0</td>\n",
       "      <td>13.0</td>\n",
       "      <td>12.0</td>\n",
       "      <td>10.0</td>\n",
       "      <td>NaN</td>\n",
       "    </tr>\n",
       "    <tr>\n",
       "      <th>176</th>\n",
       "      <td>176</td>\n",
       "      <td>207410</td>\n",
       "      <td>M. Kovačić</td>\n",
       "      <td>24</td>\n",
       "      <td>https://cdn.sofifa.org/players/4/19/207410.png</td>\n",
       "      <td>Croatia</td>\n",
       "      <td>https://cdn.sofifa.org/flags/10.png</td>\n",
       "      <td>83</td>\n",
       "      <td>89</td>\n",
       "      <td>Chelsea</td>\n",
       "      <td>...</td>\n",
       "      <td>72.0</td>\n",
       "      <td>69.0</td>\n",
       "      <td>75.0</td>\n",
       "      <td>63.0</td>\n",
       "      <td>9.0</td>\n",
       "      <td>5.0</td>\n",
       "      <td>6.0</td>\n",
       "      <td>7.0</td>\n",
       "      <td>7.0</td>\n",
       "      <td>NaN</td>\n",
       "    </tr>\n",
       "  </tbody>\n",
       "</table>\n",
       "<p>5 rows × 89 columns</p>\n",
       "</div>"
      ],
      "text/plain": [
       "     Unnamed: 0      ID              Name  Age  \\\n",
       "28           28  198710      J. Rodríguez   26   \n",
       "38           38  167664        G. Higuaín   30   \n",
       "91           91  187961          Paulinho   29   \n",
       "166         166  212523  Anderson Talisca   24   \n",
       "176         176  207410        M. Kovačić   24   \n",
       "\n",
       "                                              Photo Nationality  \\\n",
       "28   https://cdn.sofifa.org/players/4/19/198710.png    Colombia   \n",
       "38   https://cdn.sofifa.org/players/4/19/167664.png   Argentina   \n",
       "91   https://cdn.sofifa.org/players/4/19/187961.png      Brazil   \n",
       "166  https://cdn.sofifa.org/players/4/19/212523.png      Brazil   \n",
       "176  https://cdn.sofifa.org/players/4/19/207410.png     Croatia   \n",
       "\n",
       "                                    Flag  Overall  Potential  \\\n",
       "28   https://cdn.sofifa.org/flags/56.png       88         89   \n",
       "38   https://cdn.sofifa.org/flags/52.png       88         88   \n",
       "91   https://cdn.sofifa.org/flags/54.png       85         85   \n",
       "166  https://cdn.sofifa.org/flags/54.png       83         90   \n",
       "176  https://cdn.sofifa.org/flags/10.png       83         89   \n",
       "\n",
       "                               Club  ... Composure Marking StandingTackle  \\\n",
       "28                FC Bayern München  ...      87.0    52.0           41.0   \n",
       "38                            Milan  ...      86.0    35.0           22.0   \n",
       "91   Guangzhou Evergrande Taobao FC  ...      80.0    75.0           81.0   \n",
       "166  Guangzhou Evergrande Taobao FC  ...      74.0    55.0           62.0   \n",
       "176                         Chelsea  ...      72.0    69.0           75.0   \n",
       "\n",
       "     SlidingTackle GKDiving  GKHandling  GKKicking  GKPositioning GKReflexes  \\\n",
       "28            44.0     15.0        15.0       15.0            5.0       14.0   \n",
       "38            18.0      5.0        12.0        7.0            5.0       10.0   \n",
       "91            73.0     16.0        16.0       11.0            6.0        8.0   \n",
       "166           42.0     13.0        11.0       13.0           12.0       10.0   \n",
       "176           63.0      9.0         5.0        6.0            7.0        7.0   \n",
       "\n",
       "    Release Clause  \n",
       "28             NaN  \n",
       "38             NaN  \n",
       "91             NaN  \n",
       "166            NaN  \n",
       "176            NaN  \n",
       "\n",
       "[5 rows x 89 columns]"
      ]
     },
     "execution_count": 11,
     "metadata": {
     },
     "output_type": "execute_result"
    }
   ],
   "source": [
    "data[data['Release Clause'].isnull()].head()"
   ]
  },
  {
   "cell_type": "code",
   "execution_count": 12,
   "metadata": {
    "colab": {
     "base_uri": "https://localhost:8080/"
    },
    "collapsed": false,
    "id": "U22fvjY9lwsv",
    "outputId": "85f086fe-ae67-40fe-967e-7a544a677ec0"
   },
   "outputs": [
    {
     "data": {
      "text/plain": [
       "Int64Index([   28,    38,    91,   166,   176,   332,   354,   357,   427,\n",
       "              434,\n",
       "            ...\n",
       "            17634, 17672, 17726, 17752, 17978, 17979, 18026, 18031, 18056,\n",
       "            18183],\n",
       "           dtype='int64', length=1564)"
      ]
     },
     "execution_count": 12,
     "metadata": {
     },
     "output_type": "execute_result"
    }
   ],
   "source": [
    "data[data['Release Clause'].isnull()].index"
   ]
  },
  {
   "cell_type": "code",
   "execution_count": 13,
   "metadata": {
    "colab": {
     "base_uri": "https://localhost:8080/"
    },
    "collapsed": false,
    "id": "ou3sU6pml9M3",
    "outputId": "34da64ba-73f7-4796-8018-4a1ee2f31e3e"
   },
   "outputs": [
    {
     "data": {
      "text/plain": [
       "0        226500000\n",
       "1        127100000\n",
       "2        228100000\n",
       "3        138600000\n",
       "4        196400000\n",
       "           ...    \n",
       "18202       143000\n",
       "18203       113000\n",
       "18204       165000\n",
       "18205       143000\n",
       "18206       165000\n",
       "Name: Release Clause, Length: 18207, dtype: int64"
      ]
     },
     "execution_count": 13,
     "metadata": {
     },
     "output_type": "execute_result"
    }
   ],
   "source": [
    "#форматируем значения\n",
    "release_clause = data['Release Clause'].fillna('0').replace({'€':'','K': '*1e3', 'M': '*1e6'}, regex=True).map(pd.eval).astype(int)\n",
    "release_clause.rename('Release Clause')\n",
    "release_clause.rename_axis(\"animal\")\n",
    "release_clause"
   ]
  },
  {
   "cell_type": "code",
   "execution_count": 14,
   "metadata": {
    "colab": {
     "base_uri": "https://localhost:8080/",
     "height": 285
    },
    "collapsed": false,
    "id": "v8y-UGmBmOAT",
    "outputId": "2b71d3e2-8c15-48d0-f6ac-23ec7e2aad95"
   },
   "outputs": [
    {
     "data": {
      "image/png": "[encoded data removed]",
      "text/plain": [
       "<Figure size 432x288 with 1 Axes>"
      ]
     },
     "execution_count": 14,
     "metadata": {
      "image/png": {
       "height": 267,
       "width": 378
      }
     },
     "output_type": "execute_result"
    }
   ],
   "source": [
    "plt.hist(release_clause.divide(other=1e6), 70,log=True)\n",
    "plt.xlabel(\"release_clause, millions\")\n",
    "plt.show()"
   ]
  },
  {
   "cell_type": "markdown",
   "metadata": {
    "collapsed": false,
    "id": "HjaTSolYmmf2"
   },
   "source": [
    "####**Заполнение пропусков с помощью SimpleImputer**"
   ]
  },
  {
   "cell_type": "code",
   "execution_count": 15,
   "metadata": {
    "collapsed": false,
    "id": "Fs4voN4Wmk_l"
   },
   "outputs": [
   ],
   "source": [
    "from sklearn.impute import SimpleImputer\n",
    "from sklearn.impute import MissingIndicator"
   ]
  },
  {
   "cell_type": "code",
   "execution_count": 16,
   "metadata": {
    "collapsed": false,
    "id": "BdqYAczRoayQ"
   },
   "outputs": [
   ],
   "source": [
    "# функция для применения различных стратегий импьютации для колонки\n",
    "def test_num_impute(strategy_param, column, missing_val=np.nan):\n",
    "    # фильтр для проверки заполнения пустых значений\n",
    "    indicator = MissingIndicator(missing_values=missing_val)\n",
    "    mask_missing_values_only = indicator.fit_transform(column)\n",
    "    #SimpleImputer\n",
    "    imp_num = SimpleImputer(strategy=strategy_param,missing_values=missing_val)\n",
    "    data_num_imp = imp_num.fit_transform(column)\n",
    "    return data_num_imp[mask_missing_values_only]"
   ]
  },
  {
   "cell_type": "code",
   "execution_count": 17,
   "metadata": {
    "collapsed": false,
    "id": "CQjjOq0Soe4K"
   },
   "outputs": [
   ],
   "source": [
    "# функция для печати результатов вставки пропусков, используя список стратегий\n",
    "def test_strategies(strategies,df,missing_val=np.nan):\n",
    "    for index, strategy in enumerate(strategies):\n",
    "        print(df.iloc[:,0].name,strategy,test_num_impute(strategy,df,missing_val))"
   ]
  },
  {
   "cell_type": "code",
   "execution_count": 18,
   "metadata": {
    "collapsed": false,
    "id": "ti7Q6dxkojM1"
   },
   "outputs": [
   ],
   "source": [
    "# выводить массив с ..., если больше 100 значений\n",
    "np.set_printoptions(threshold=100)"
   ]
  },
  {
   "cell_type": "code",
   "execution_count": 19,
   "metadata": {
    "colab": {
     "base_uri": "https://localhost:8080/"
    },
    "collapsed": false,
    "id": "MRPp0Doeos7L",
    "outputId": "f5c10003-77cc-40ab-c63f-f11998118117"
   },
   "outputs": [
    {
     "data": {
      "text/plain": [
       "(array([   28,    38,    91, ..., 18031, 18056, 18183]),\n",
       " array([0, 0, 0, ..., 0, 0, 0]))"
      ]
     },
     "execution_count": 19,
     "metadata": {
     },
     "output_type": "execute_result"
    }
   ],
   "source": [
    "# фильтр для проверки заполнения пустых значений\n",
    "indicator = MissingIndicator(missing_values=0)\n",
    "mask_missing_values_only = indicator.fit_transform(release_clause.to_frame())\n",
    "np.where(mask_missing_values_only)"
   ]
  },
  {
   "cell_type": "code",
   "execution_count": 20,
   "metadata": {
    "colab": {
     "base_uri": "https://localhost:8080/"
    },
    "collapsed": false,
    "id": "Ft3VRB6FoxUZ",
    "outputId": "3908a393-06e3-44ee-ccb0-7f4da1275927"
   },
   "outputs": [
    {
     "data": {
      "text/plain": [
       "count    1.820700e+04\n",
       "mean     4.191200e+06\n",
       "std      1.070778e+07\n",
       "min      0.000000e+00\n",
       "25%      3.920000e+05\n",
       "50%      1.000000e+06\n",
       "75%      3.000000e+06\n",
       "max      2.281000e+08\n",
       "Name: Release Clause, dtype: float64"
      ]
     },
     "execution_count": 20,
     "metadata": {
     },
     "output_type": "execute_result"
    }
   ],
   "source": [
    "# характеристики признака\n",
    "release_clause.describe()"
   ]
  },
  {
   "cell_type": "code",
   "execution_count": 21,
   "metadata": {
    "colab": {
     "base_uri": "https://localhost:8080/"
    },
    "collapsed": false,
    "id": "IChu4o1wo10J",
    "outputId": "295b4fa0-7f0f-4db4-a64d-f526ac1912d9"
   },
   "outputs": [
    {
     "name": "stdout",
     "output_type": "stream",
     "text": [
      "Release Clause mean [4585060.98185423 4585060.98185423 4585060.98185423 ... 4585060.98185423\n",
      " 4585060.98185423 4585060.98185423]\n",
      "Release Clause median [1100000. 1100000. 1100000. ... 1100000. 1100000. 1100000.]\n",
      "Release Clause most_frequent [1100000 1100000 1100000 ... 1100000 1100000 1100000]\n"
     ]
    }
   ],
   "source": [
    "# применение стратегий и вывод значений\n",
    "strategies=['mean', 'median','most_frequent']\n",
    "test_strategies(strategies,release_clause.to_frame(),0)"
   ]
  },
  {
   "cell_type": "markdown",
   "metadata": {
    "collapsed": false,
    "id": "9_Hf5rzupFp6"
   },
   "source": [
    "###**Обработка пропусков в категориальных данных**"
   ]
  },
  {
   "cell_type": "markdown",
   "metadata": {
    "collapsed": false,
    "id": "JzTWOOt6pNBj"
   },
   "source": [
    "####**Выбор колонки**"
   ]
  },
  {
   "cell_type": "code",
   "execution_count": 22,
   "metadata": {
    "colab": {
     "base_uri": "https://localhost:8080/"
    },
    "collapsed": false,
    "id": "tSj442irpPo2",
    "outputId": "6484fbb2-6d12-4810-84c5-4a497f0d4828"
   },
   "outputs": [
    {
     "data": {
      "text/plain": [
       "Preferred Foot          0.263635\n",
       "Work Rate               0.263635\n",
       "Body Type               0.263635\n",
       "Real Face               0.263635\n",
       "Weight                  0.263635\n",
       "Height                  0.263635\n",
       "Position                0.329544\n",
       "Club                    1.323667\n",
       "Contract Valid Until    1.587302\n",
       "Joined                  8.529686\n",
       "dtype: float64"
      ]
     },
     "execution_count": 22,
     "metadata": {
     },
     "output_type": "execute_result"
    }
   ],
   "source": [
    "# поиск в процентах\n",
    "total_count = len(data.index)\n",
    "data.select_dtypes(include=['object']).isnull().sum(axis = 0).where(lambda x : x>0).sort_values(ascending=True).apply(lambda x: x/total_count*100).head(10)"
   ]
  },
  {
   "cell_type": "code",
   "execution_count": 23,
   "metadata": {
    "colab": {
     "base_uri": "https://localhost:8080/"
    },
    "collapsed": false,
    "id": "qpNSPXvgpiOU",
    "outputId": "8be11812-bd84-4040-c717-a8c473ec51f1"
   },
   "outputs": [
    {
     "data": {
      "text/plain": [
       "0               FC Barcelona\n",
       "1                   Juventus\n",
       "2        Paris Saint-Germain\n",
       "3          Manchester United\n",
       "4            Manchester City\n",
       "                ...         \n",
       "18202        Crewe Alexandra\n",
       "18203         Trelleborgs FF\n",
       "18204       Cambridge United\n",
       "18205        Tranmere Rovers\n",
       "18206        Tranmere Rovers\n",
       "Name: Club, Length: 18207, dtype: object"
      ]
     },
     "execution_count": 23,
     "metadata": {
     },
     "output_type": "execute_result"
    }
   ],
   "source": [
    "data['Club']"
   ]
  },
  {
   "cell_type": "code",
   "execution_count": 24,
   "metadata": {
    "colab": {
     "base_uri": "https://localhost:8080/"
    },
    "collapsed": false,
    "id": "wl1z2b6Hpoy4",
    "outputId": "9f27244f-6db4-4422-c735-f5b0860cb2d4"
   },
   "outputs": [
    {
     "name": "stdout",
     "output_type": "stream",
     "text": [
      "Club: число уникальных значений - 651 , количество пустых значений - 241\n"
     ]
    }
   ],
   "source": [
    "# вывод информации об уникальных значениях\n",
    "print('Club: число уникальных значений -', data['Club'].nunique(), \", количество пустых значений -\", data['Club'].isnull().sum())"
   ]
  },
  {
   "cell_type": "markdown",
   "metadata": {
    "collapsed": false,
    "id": "jEhF_uPep8ep"
   },
   "source": [
    "####**Заполнение пропусков в данных**"
   ]
  },
  {
   "cell_type": "code",
   "execution_count": 25,
   "metadata": {
    "colab": {
     "base_uri": "https://localhost:8080/"
    },
    "collapsed": false,
    "id": "5_wPGsuPqCdo",
    "outputId": "ae7dc02f-7f6b-4e43-aa8c-1347b58a656e"
   },
   "outputs": [
    {
     "data": {
      "text/plain": [
       "Int64Index([  452,   538,   568,   677,   874,   953,   997,  1008,  1120,\n",
       "             1271,\n",
       "            ...\n",
       "            16903, 16947, 16976, 17008, 17129, 17197, 17215, 17339, 17436,\n",
       "            17539],\n",
       "           dtype='int64', length=241)"
      ]
     },
     "execution_count": 25,
     "metadata": {
     },
     "output_type": "execute_result"
    }
   ],
   "source": [
    "data[data['Club'].isnull()].index"
   ]
  },
  {
   "cell_type": "code",
   "execution_count": 26,
   "metadata": {
    "colab": {
     "base_uri": "https://localhost:8080/"
    },
    "collapsed": false,
    "id": "puRU-B4BqHg_",
    "outputId": "19b034ae-e120-422d-e96f-d505027bccf7"
   },
   "outputs": [
    {
     "name": "stdout",
     "output_type": "stream",
     "text": [
      "Club most_frequent ['AS Monaco' 'AS Monaco' 'AS Monaco' ... 'AS Monaco' 'AS Monaco'\n",
      " 'AS Monaco']\n",
      "Club constant ['missing_value' 'missing_value' 'missing_value' ... 'missing_value'\n",
      " 'missing_value' 'missing_value']\n"
     ]
    }
   ],
   "source": [
    "# применение стратегий и вывод заполненных значений\n",
    "strategies = ['most_frequent','constant']\n",
    "test_strategies(strategies, data[['Club']])"
   ]
  },
  {
   "cell_type": "markdown",
   "metadata": {
    "collapsed": false,
    "id": "3_TkCORrqhf-"
   },
   "source": [
    "###**Преобразование категориальных признаков**"
   ]
  },
  {
   "cell_type": "markdown",
   "metadata": {
    "collapsed": false,
    "id": "y_DfJnjKq10q"
   },
   "source": [
    "####**Поиск колонки для label encoding**"
   ]
  },
  {
   "cell_type": "code",
   "execution_count": 27,
   "metadata": {
    "colab": {
     "base_uri": "https://localhost:8080/"
    },
    "collapsed": false,
    "id": "Z6QrjfFNquAw",
    "outputId": "fd67f083-44df-47c3-b195-7671e3e98d52"
   },
   "outputs": [
    {
     "name": "stdout",
     "output_type": "stream",
     "text": [
      "Preferred Foot     2\n",
      "Real Face          2\n",
      "Work Rate          9\n",
      "Body Type         10\n",
      "Height            21\n",
      "dtype: int64\n"
     ]
    }
   ],
   "source": [
    "# поиск категориальных признаков, в которых мало уникальных значений\n",
    "uniqueObj = data.select_dtypes(include=['object']).nunique().sort_values().head(5)\n",
    "print(uniqueObj)"
   ]
  },
  {
   "cell_type": "code",
   "execution_count": 28,
   "metadata": {
    "colab": {
     "base_uri": "https://localhost:8080/"
    },
    "collapsed": false,
    "id": "KbKkALBqrP2x",
    "outputId": "2ea7bad9-80c8-4a91-bc1c-d74c91ee382f"
   },
   "outputs": [
    {
     "name": "stdout",
     "output_type": "stream",
     "text": [
      "Preferred Foot : ['Left' 'Right' nan] , количество пустых значений - 48\n",
      "Real Face : ['Yes' 'No' nan] , количество пустых значений - 48\n",
      "Work Rate : ['Medium/ Medium' 'High/ Low' 'High/ Medium' 'High/ High' 'Medium/ High'\n",
      " 'Medium/ Low' 'Low/ High' 'Low/ Medium' 'Low/ Low' nan] , количество пустых значений - 48\n",
      "Body Type : ['Messi' 'C. Ronaldo' 'Neymar' 'Lean' 'Normal' 'Courtois' 'Stocky'\n",
      " 'PLAYER_BODY_TYPE_25' 'Shaqiri' 'Akinfenwa' nan] , количество пустых значений - 48\n",
      "Height : [\"5'7\" \"6'2\" \"5'9\" \"6'4\" \"5'11\" \"5'8\" \"6'0\" \"5'6\" \"5'10\" \"6'6\" \"6'1\" \"5'4\"\n",
      " \"6'3\" \"5'5\" \"6'5\" \"6'7\" \"5'3\" \"5'2\" \"6'8\" \"5'1\" \"6'9\" nan] , количество пустых значений - 48\n"
     ]
    }
   ],
   "source": [
    "# вывод категориальных признаков с указанием уникальных значений\n",
    "categoryCols = uniqueObj.index.tolist()\n",
    "for col in data[categoryCols]:\n",
    "    print(col, \":\", data[col].unique(), \", количество пустых значений -\", data[col].isnull().sum())\n"
   ]
  },
  {
   "cell_type": "code",
   "execution_count": 29,
   "metadata": {
    "colab": {
     "base_uri": "https://localhost:8080/",
     "height": 195
    },
    "collapsed": false,
    "id": "LX1bFukXrjUq",
    "outputId": "049731f0-0202-408d-cf13-58ebe59f8001"
   },
   "outputs": [
    {
     "data": {
      "text/html": [
       "<div>\n",
       "<style scoped>\n",
       "    .dataframe tbody tr th:only-of-type {\n",
       "        vertical-align: middle;\n",
       "    }\n",
       "\n",
       "    .dataframe tbody tr th {\n",
       "        vertical-align: top;\n",
       "    }\n",
       "\n",
       "    .dataframe thead th {\n",
       "        text-align: right;\n",
       "    }\n",
       "</style>\n",
       "<table border=\"1\" class=\"dataframe\">\n",
       "  <thead>\n",
       "    <tr style=\"text-align: right;\">\n",
       "      <th></th>\n",
       "      <th>Preferred Foot</th>\n",
       "      <th>Real Face</th>\n",
       "      <th>Work Rate</th>\n",
       "      <th>Body Type</th>\n",
       "      <th>Height</th>\n",
       "    </tr>\n",
       "  </thead>\n",
       "  <tbody>\n",
       "    <tr>\n",
       "      <th>13236</th>\n",
       "      <td>NaN</td>\n",
       "      <td>NaN</td>\n",
       "      <td>NaN</td>\n",
       "      <td>NaN</td>\n",
       "      <td>NaN</td>\n",
       "    </tr>\n",
       "    <tr>\n",
       "      <th>13237</th>\n",
       "      <td>NaN</td>\n",
       "      <td>NaN</td>\n",
       "      <td>NaN</td>\n",
       "      <td>NaN</td>\n",
       "      <td>NaN</td>\n",
       "    </tr>\n",
       "    <tr>\n",
       "      <th>13238</th>\n",
       "      <td>NaN</td>\n",
       "      <td>NaN</td>\n",
       "      <td>NaN</td>\n",
       "      <td>NaN</td>\n",
       "      <td>NaN</td>\n",
       "    </tr>\n",
       "    <tr>\n",
       "      <th>13239</th>\n",
       "      <td>NaN</td>\n",
       "      <td>NaN</td>\n",
       "      <td>NaN</td>\n",
       "      <td>NaN</td>\n",
       "      <td>NaN</td>\n",
       "    </tr>\n",
       "    <tr>\n",
       "      <th>13240</th>\n",
       "      <td>NaN</td>\n",
       "      <td>NaN</td>\n",
       "      <td>NaN</td>\n",
       "      <td>NaN</td>\n",
       "      <td>NaN</td>\n",
       "    </tr>\n",
       "  </tbody>\n",
       "</table>\n",
       "</div>"
      ],
      "text/plain": [
       "      Preferred Foot Real Face Work Rate Body Type Height\n",
       "13236            NaN       NaN       NaN       NaN    NaN\n",
       "13237            NaN       NaN       NaN       NaN    NaN\n",
       "13238            NaN       NaN       NaN       NaN    NaN\n",
       "13239            NaN       NaN       NaN       NaN    NaN\n",
       "13240            NaN       NaN       NaN       NaN    NaN"
      ]
     },
     "execution_count": 29,
     "metadata": {
     },
     "output_type": "execute_result"
    }
   ],
   "source": [
    "# проверка на связь строк, в которых неопределенные значения, чтобы удалить их из датасета\n",
    "data[(data[categoryCols[0]].isnull())][categoryCols].head()"
   ]
  },
  {
   "cell_type": "code",
   "execution_count": 30,
   "metadata": {
    "colab": {
     "base_uri": "https://localhost:8080/"
    },
    "collapsed": false,
    "id": "RrXbyb3Rro2T",
    "outputId": "66c30fac-6ec0-4213-a2f6-29a12591ba2d"
   },
   "outputs": [
    {
     "name": "stdout",
     "output_type": "stream",
     "text": [
      "Preferred Foot : ['Left' 'Right'] , количество пустых значений - 0\n",
      "Real Face : ['Yes' 'No'] , количество пустых значений - 0\n",
      "Work Rate : ['Medium/ Medium' 'High/ Low' 'High/ Medium' 'High/ High' 'Medium/ High'\n",
      " 'Medium/ Low' 'Low/ High' 'Low/ Medium' 'Low/ Low'] , количество пустых значений - 0\n",
      "Body Type : ['Messi' 'C. Ronaldo' 'Neymar' 'Lean' 'Normal' 'Courtois' 'Stocky'\n",
      " 'PLAYER_BODY_TYPE_25' 'Shaqiri' 'Akinfenwa'] , количество пустых значений - 0\n",
      "Height : [\"5'7\" \"6'2\" \"5'9\" \"6'4\" \"5'11\" \"5'8\" \"6'0\" \"5'6\" \"5'10\" \"6'6\" \"6'1\" \"5'4\"\n",
      " \"6'3\" \"5'5\" \"6'5\" \"6'7\" \"5'3\" \"5'2\" \"6'8\" \"5'1\" \"6'9\"] , количество пустых значений - 0\n"
     ]
    }
   ],
   "source": [
    "# удаляем эти строки, так как значения не определены во всех колонках\n",
    "data = data[data[categoryCols[0]].notna()]\n",
    "for col in data[categoryCols]:\n",
    "    print(col,\":\", data[col].unique(), \", количество пустых значений -\", data[col].isnull().sum())"
   ]
  },
  {
   "cell_type": "markdown",
   "metadata": {
    "collapsed": false,
    "id": "7H8-N68arzJh"
   },
   "source": [
    "####**label encoding**"
   ]
  },
  {
   "cell_type": "code",
   "execution_count": 31,
   "metadata": {
    "collapsed": false,
    "id": "A3cSfk92r1_S"
   },
   "outputs": [
   ],
   "source": [
    "# импорт\n",
    "from sklearn.preprocessing import LabelEncoder"
   ]
  },
  {
   "cell_type": "code",
   "execution_count": 32,
   "metadata": {
    "colab": {
     "base_uri": "https://localhost:8080/"
    },
    "collapsed": false,
    "id": "UcI3Xdhyr7D-",
    "outputId": "91d71651-160e-4af9-b40f-85f79bcf4d20"
   },
   "outputs": [
    {
     "name": "stdout",
     "output_type": "stream",
     "text": [
      "Work Rate, label encoded: [8 1 2 ... 8 8 8]\n",
      "Work Rate, unique values: [0 1 2 3 4 5 6 7 8]\n",
      "Work Rate, source values: ['Medium/ Medium' 'High/ Low' 'High/ Medium' ... 'Medium/ Medium'\n",
      " 'Medium/ Medium' 'Medium/ Medium']\n"
     ]
    }
   ],
   "source": [
    "# label encoding для выбранной колонки Work Rate\n",
    "le = LabelEncoder()\n",
    "work_rate = data[\"Work Rate\"]\n",
    "foot_le = le.fit_transform(work_rate)\n",
    "print(work_rate.name, \", label encoded: \", foot_le, sep='')\n",
    "print(work_rate.name, \", unique values: \", np.unique(foot_le), sep='')\n",
    "print(work_rate.name, \", source values: \", le.inverse_transform(foot_le), sep='')"
   ]
  },
  {
   "cell_type": "markdown",
   "metadata": {
    "collapsed": false,
    "id": "W1nuPIQPsM_n"
   },
   "source": [
    "####**one hot encoding**"
   ]
  },
  {
   "cell_type": "code",
   "execution_count": 33,
   "metadata": {
    "colab": {
     "base_uri": "https://localhost:8080/",
     "height": 195
    },
    "collapsed": false,
    "id": "3JNktLF0sPlM",
    "outputId": "46ca4d87-5940-42fd-80b0-1f58b0612ec2"
   },
   "outputs": [
    {
     "data": {
      "text/html": [
       "<div>\n",
       "<style scoped>\n",
       "    .dataframe tbody tr th:only-of-type {\n",
       "        vertical-align: middle;\n",
       "    }\n",
       "\n",
       "    .dataframe tbody tr th {\n",
       "        vertical-align: top;\n",
       "    }\n",
       "\n",
       "    .dataframe thead th {\n",
       "        text-align: right;\n",
       "    }\n",
       "</style>\n",
       "<table border=\"1\" class=\"dataframe\">\n",
       "  <thead>\n",
       "    <tr style=\"text-align: right;\">\n",
       "      <th></th>\n",
       "      <th>Rate_Akinfenwa</th>\n",
       "      <th>Rate_C. Ronaldo</th>\n",
       "      <th>Rate_Courtois</th>\n",
       "      <th>Rate_Lean</th>\n",
       "      <th>Rate_Messi</th>\n",
       "      <th>Rate_Neymar</th>\n",
       "      <th>Rate_Normal</th>\n",
       "      <th>Rate_PLAYER_BODY_TYPE_25</th>\n",
       "      <th>Rate_Shaqiri</th>\n",
       "      <th>Rate_Stocky</th>\n",
       "      <th>Rate_nan</th>\n",
       "    </tr>\n",
       "  </thead>\n",
       "  <tbody>\n",
       "    <tr>\n",
       "      <th>0</th>\n",
       "      <td>0</td>\n",
       "      <td>0</td>\n",
       "      <td>0</td>\n",
       "      <td>0</td>\n",
       "      <td>1</td>\n",
       "      <td>0</td>\n",
       "      <td>0</td>\n",
       "      <td>0</td>\n",
       "      <td>0</td>\n",
       "      <td>0</td>\n",
       "      <td>0</td>\n",
       "    </tr>\n",
       "    <tr>\n",
       "      <th>1</th>\n",
       "      <td>0</td>\n",
       "      <td>1</td>\n",
       "      <td>0</td>\n",
       "      <td>0</td>\n",
       "      <td>0</td>\n",
       "      <td>0</td>\n",
       "      <td>0</td>\n",
       "      <td>0</td>\n",
       "      <td>0</td>\n",
       "      <td>0</td>\n",
       "      <td>0</td>\n",
       "    </tr>\n",
       "    <tr>\n",
       "      <th>2</th>\n",
       "      <td>0</td>\n",
       "      <td>0</td>\n",
       "      <td>0</td>\n",
       "      <td>0</td>\n",
       "      <td>0</td>\n",
       "      <td>1</td>\n",
       "      <td>0</td>\n",
       "      <td>0</td>\n",
       "      <td>0</td>\n",
       "      <td>0</td>\n",
       "      <td>0</td>\n",
       "    </tr>\n",
       "    <tr>\n",
       "      <th>3</th>\n",
       "      <td>0</td>\n",
       "      <td>0</td>\n",
       "      <td>0</td>\n",
       "      <td>1</td>\n",
       "      <td>0</td>\n",
       "      <td>0</td>\n",
       "      <td>0</td>\n",
       "      <td>0</td>\n",
       "      <td>0</td>\n",
       "      <td>0</td>\n",
       "      <td>0</td>\n",
       "    </tr>\n",
       "    <tr>\n",
       "      <th>4</th>\n",
       "      <td>0</td>\n",
       "      <td>0</td>\n",
       "      <td>0</td>\n",
       "      <td>0</td>\n",
       "      <td>0</td>\n",
       "      <td>0</td>\n",
       "      <td>1</td>\n",
       "      <td>0</td>\n",
       "      <td>0</td>\n",
       "      <td>0</td>\n",
       "      <td>0</td>\n",
       "    </tr>\n",
       "  </tbody>\n",
       "</table>\n",
       "</div>"
      ],
      "text/plain": [
       "   Rate_Akinfenwa  Rate_C. Ronaldo  Rate_Courtois  Rate_Lean  Rate_Messi  \\\n",
       "0               0                0              0          0           1   \n",
       "1               0                1              0          0           0   \n",
       "2               0                0              0          0           0   \n",
       "3               0                0              0          1           0   \n",
       "4               0                0              0          0           0   \n",
       "\n",
       "   Rate_Neymar  Rate_Normal  Rate_PLAYER_BODY_TYPE_25  Rate_Shaqiri  \\\n",
       "0            0            0                         0             0   \n",
       "1            0            0                         0             0   \n",
       "2            1            0                         0             0   \n",
       "3            0            0                         0             0   \n",
       "4            0            1                         0             0   \n",
       "\n",
       "   Rate_Stocky  Rate_nan  \n",
       "0            0         0  \n",
       "1            0         0  \n",
       "2            0         0  \n",
       "3            0         0  \n",
       "4            0         0  "
      ]
     },
     "execution_count": 33,
     "metadata": {
     },
     "output_type": "execute_result"
    }
   ],
   "source": [
    "# one hot encoding для выбранной колонки Body Type\n",
    "pd.get_dummies(data[\"Body Type\"],dummy_na=True,prefix=\"Rate\").head()"
   ]
  },
  {
   "cell_type": "markdown",
   "metadata": {
    "collapsed": false,
    "id": "ZBxfHdrAtH6b"
   },
   "source": [
    "###**Масштабирование данных**"
   ]
  },
  {
   "cell_type": "markdown",
   "metadata": {
    "collapsed": false,
    "id": "XDSwXQo0tLw6"
   },
   "source": [
    "####**Выбор колонки**"
   ]
  },
  {
   "cell_type": "code",
   "execution_count": 34,
   "metadata": {
    "colab": {
     "base_uri": "https://localhost:8080/"
    },
    "collapsed": false,
    "id": "S0A2tcoztODz",
    "outputId": "565676e3-1ee8-47c0-b977-f70639a237c3"
   },
   "outputs": [
    {
     "name": "stdout",
     "output_type": "stream",
     "text": [
      "Jersey Number      99.0\n",
      "Dribbling          94.0\n",
      "Positioning        94.0\n",
      "Finishing          93.0\n",
      "ShotPower          92.0\n",
      "Marking            92.0\n",
      "LongShots          92.0\n",
      "HeadingAccuracy    91.0\n",
      "StandingTackle     90.0\n",
      "FKAccuracy         90.0\n",
      "dtype: float64\n"
     ]
    }
   ],
   "source": [
    "# выборка 10 количественных признаков с количеством уникальных значений меньше 100\n",
    "quantityCols = data.select_dtypes(exclude=['object']).nunique().where(lambda x : x<100).sort_values(ascending=False).head(10)\n",
    "print(quantityCols)"
   ]
  },
  {
   "cell_type": "code",
   "execution_count": 35,
   "metadata": {
    "colab": {
     "base_uri": "https://localhost:8080/",
     "height": 1000
    },
    "collapsed": false,
    "id": "_ZuUtDqxtZMg",
    "outputId": "a2e6d212-501f-415b-990a-a6f82b05eaa7"
   },
   "outputs": [
    {
     "data": {
      "text/plain": [
       "array([[<AxesSubplot:title={'center':'Jersey Number'}>,\n",
       "        <AxesSubplot:title={'center':'Dribbling'}>,\n",
       "        <AxesSubplot:title={'center':'Positioning'}>],\n",
       "       [<AxesSubplot:title={'center':'Finishing'}>,\n",
       "        <AxesSubplot:title={'center':'ShotPower'}>,\n",
       "        <AxesSubplot:title={'center':'Marking'}>],\n",
       "       [<AxesSubplot:title={'center':'LongShots'}>,\n",
       "        <AxesSubplot:title={'center':'HeadingAccuracy'}>,\n",
       "        <AxesSubplot:title={'center':'StandingTackle'}>],\n",
       "       [<AxesSubplot:title={'center':'FKAccuracy'}>, <AxesSubplot:>,\n",
       "        <AxesSubplot:>]], dtype=object)"
      ]
     },
     "execution_count": 35,
     "metadata": {
     },
     "output_type": "execute_result"
    },
    {
     "data": {
      "image/png": "[encoded data removed]",
      "text/plain": [
       "<Figure size 1080x1080 with 12 Axes>"
      ]
     },
     "execution_count": 35,
     "metadata": {
      "image/png": {
       "height": 864,
       "width": 889
      }
     },
     "output_type": "execute_result"
    }
   ],
   "source": [
    "# гистограммы для этих признаков\n",
    "data[quantityCols.index.tolist()].hist(figsize=(15,15))\n"
   ]
  },
  {
   "cell_type": "markdown",
   "metadata": {
    "collapsed": false,
    "id": "YniF-evbtpBj"
   },
   "source": [
    "####**Масштабирование различными признаками**"
   ]
  },
  {
   "cell_type": "code",
   "execution_count": 36,
   "metadata": {
    "collapsed": false,
    "id": "uLJ5aRxDtoIa"
   },
   "outputs": [
   ],
   "source": [
    "from sklearn.preprocessing import MinMaxScaler, StandardScaler"
   ]
  },
  {
   "cell_type": "code",
   "execution_count": 37,
   "metadata": {
    "colab": {
     "base_uri": "https://localhost:8080/",
     "height": 818
    },
    "collapsed": false,
    "id": "1e99ZlGPtwq0",
    "outputId": "8f56752d-5b01-4eca-82de-91c049571ea0"
   },
   "outputs": [
    {
     "data": {
      "image/png": "[encoded data removed]",
      "text/plain": [
       "<Figure size 432x288 with 1 Axes>"
      ]
     },
     "execution_count": 37,
     "metadata": {
      "image/png": {
       "height": 266,
       "width": 386
      }
     },
     "output_type": "execute_result"
    },
    {
     "data": {
      "image/png": "[encoded data removed]",
      "text/plain": [
       "<Figure size 432x288 with 1 Axes>"
      ]
     },
     "execution_count": 37,
     "metadata": {
      "image/png": {
       "height": 266,
       "width": 386
      }
     },
     "output_type": "execute_result"
    },
    {
     "data": {
      "image/png": "[encoded data removed]",
      "text/plain": [
       "<Figure size 432x288 with 1 Axes>"
      ]
     },
     "execution_count": 37,
     "metadata": {
      "image/png": {
       "height": 266,
       "width": 386
      }
     },
     "output_type": "execute_result"
    }
   ],
   "source": [
    "# выбранная колонка - Jersey Number\n",
    "\n",
    "# MinMax масштабирование\n",
    "mms = MinMaxScaler()\n",
    "jersey_number = data['Jersey Number']\n",
    "mms_acceleration = mms.fit_transform(jersey_number.to_frame())\n",
    "\n",
    "# Масштабирование данных на основе Z-оценки\n",
    "sts = StandardScaler()\n",
    "sts_acceleration = sts.fit_transform(jersey_number.to_frame())\n",
    "\n",
    "# Построение гистограмм\n",
    "plt.hist(jersey_number,40)\n",
    "plt.title(jersey_number.name+\"- исходный\")\n",
    "plt.show()\n",
    "plt.hist(mms_acceleration,40)\n",
    "plt.title(jersey_number.name+\"- MinMax\")\n",
    "plt.show()\n",
    "plt.hist(sts_acceleration,40)\n",
    "plt.title(jersey_number.name+\"- Z-оценка\")\n",
    "plt.show()"
   ]
  }
 ],
 "metadata": {
  "colab": {
   "name": "pab02_TMO.ipynb",
   "provenance": [
   ]
  },
  "kernelspec": {
   "display_name": "Python 3 (system-wide)",
   "language": "python",
   "metadata": {
    "cocalc": {
     "description": "Python 3 programming language",
     "priority": 100,
     "url": "https://www.python.org/"
    }
   },
   "name": "python3",
   "resource_dir": "/ext/jupyter/kernels/python3"
  },
  "language_info": {
   "codemirror_mode": {
    "name": "ipython",
    "version": 3
   },
   "file_extension": ".py",
   "mimetype": "text/x-python",
   "name": "python",
   "nbconvert_exporter": "python",
   "pygments_lexer": "ipython3",
   "version": "3.8.5"
  }
 },
 "nbformat": 4,
 "nbformat_minor": 4
}